{
 "cells": [
  {
   "cell_type": "markdown",
   "metadata": {},
   "source": [
    "# Lang Graph\n"
   ]
  },
  {
   "cell_type": "markdown",
   "metadata": {},
   "source": [
    "## Steps\n",
    "* Make a state (its a intial component in which we add the information which flows in the graph)\n",
    "* Make a node (it upgrades the values of states,it can be any python function,business logic or llm)\n",
    "* make edges(used to connect nodes,controls flow of graph,)\n",
    "### Graph Construction\n",
    "Now, we build the graph from our components defined above.\n",
    "The StateGraph class is the graph class that we can use.\n",
    "First, we initialize a StateGraph with the State class we defined above.\n",
    "Then, we add our nodes and edges.\n",
    "We use the START Node, a special node that sends user input to the graph, to indicate where to start our graph.\n",
    "The END Node is a special node that represents a terminal node.\n",
    "\n",
    "Finally, we compile our graph to perform a few basic checks on the graph structure.\n",
    "We can visualize the graph as a Mermaid diagram."
   ]
  },
  {
   "cell_type": "code",
   "execution_count": 4,
   "metadata": {},
   "outputs": [
    {
     "name": "stdout",
     "output_type": "stream",
     "text": [
      "{'prompt': 'Hello Lang Graph'}\n",
      "Hello Lang Graph\n",
      "Hello Lang Graph I am duaa\n",
      "<class 'dict'>\n"
     ]
    }
   ],
   "source": [
    "from typing_extensions import TypedDict\n",
    "class LearningState(TypedDict):\n",
    "    prompt:str\n",
    "state1 : LearningState = LearningState(prompt=\"Hello Lang Graph\")  \n",
    "print(state1)\n",
    "print(state1[\"prompt\"])\n",
    "print(state1[\"prompt\"]+ \" I am duaa\")\n",
    "print(type(state1))  \n",
    "\n",
    "state2:LearningState= LearningState(prompt=\"Pakistan Zindabad\")"
   ]
  },
  {
   "cell_type": "code",
   "execution_count": 24,
   "metadata": {},
   "outputs": [
    {
     "name": "stdout",
     "output_type": "stream",
     "text": [
      "--- Node 2 ---\n"
     ]
    },
    {
     "data": {
      "text/plain": [
       "{'prompt': 'Pakistan Zindabad I want to become an AI engineer'}"
      ]
     },
     "execution_count": 24,
     "metadata": {},
     "output_type": "execute_result"
    }
   ],
   "source": [
    "def node1(state:LearningState) -> LearningState:\n",
    "    print(\"--- Node 1 ---\")      #return type\n",
    "    #logic\n",
    "    return {\"prompt\":state[\"prompt\"] + \" I am Duaa learning Lang Graph\"}\n",
    "def node2(state:LearningState) -> LearningState:\n",
    "    print(\"--- Node 2 ---\")\n",
    "    return{\"prompt\":state[\"prompt\"] + \" I want to become an AI engineer\"}\n",
    "node2(state2)"
   ]
  },
  {
   "cell_type": "code",
   "execution_count": 25,
   "metadata": {},
   "outputs": [
    {
     "name": "stdout",
     "output_type": "stream",
     "text": [
      "<langgraph.graph.state.StateGraph object at 0x000001B141CA0590>\n"
     ]
    }
   ],
   "source": [
    "# Graph\n",
    "from IPython.display import Image,display #preview graph\n",
    "from langgraph.graph import StateGraph,START,END\n",
    "from langgraph.graph.state import CompiledStateGraph\n",
    "\n",
    "#build graph\n",
    "builder : StateGraph = StateGraph(state_schema=LearningState)\n",
    "print(builder)\n",
    "\n"
   ]
  },
  {
   "cell_type": "code",
   "execution_count": 26,
   "metadata": {},
   "outputs": [
    {
     "data": {
      "text/plain": [
       "<langgraph.graph.state.StateGraph at 0x1b141ca0590>"
      ]
     },
     "execution_count": 26,
     "metadata": {},
     "output_type": "execute_result"
    }
   ],
   "source": [
    "#nodes\n",
    "builder.add_node(\"work\",node1)\n",
    "builder.add_node(\"goal\",node2)\n",
    "\n",
    "#edges logic\n",
    "builder.add_edge(START,\"work\")\n",
    "builder.add_edge(\"work\",\"goal\")\n",
    "builder.add_edge(\"goal\",END)\n",
    "\n"
   ]
  },
  {
   "cell_type": "code",
   "execution_count": 32,
   "metadata": {},
   "outputs": [
    {
     "name": "stdout",
     "output_type": "stream",
     "text": [
      "Graph(nodes={'__start__': Node(id='__start__', name='__start__', data=<class 'langchain_core.utils.pydantic.LangGraphInput'>, metadata=None), 'work': Node(id='work', name='work', data=work(tags=None, recurse=True, func_accepts_config=False, func_accepts={'writer': False, 'store': False}), metadata=None), 'goal': Node(id='goal', name='goal', data=goal(tags=None, recurse=True, func_accepts_config=False, func_accepts={'writer': False, 'store': False}), metadata=None), '__end__': Node(id='__end__', name='__end__', data=<class 'langchain_core.utils.pydantic.LangGraphOutput'>, metadata=None)}, edges=[Edge(source='__start__', target='work', data=None, conditional=False), Edge(source='goal', target='__end__', data=None, conditional=False), Edge(source='work', target='goal', data=None, conditional=False)])\n",
      "--- Node 1 ---\n",
      "--- Node 2 ---\n",
      "{'prompt': 'hi I am Duaa learning Lang Graph I want to become an AI engineer'}\n"
     ]
    },
    {
     "data": {
      "image/jpeg": "[encoded data removed]",
      "text/plain": [
       "<IPython.core.display.Image object>"
      ]
     },
     "metadata": {},
     "output_type": "display_data"
    }
   ],
   "source": [
    "#add\n",
    "graph1 : CompiledStateGraph = builder.compile()\n",
    "print(graph1.get_graph())\n",
    "print(graph1.invoke({\"prompt\":\"hi\"}))\n",
    "display(Image(graph1.get_graph().draw_mermaid_png()))"
   ]
  },
  {
   "cell_type": "code",
   "execution_count": 1,
   "metadata": {},
   "outputs": [
    {
     "data": {
      "text/plain": [
       "<langgraph.graph.state.StateGraph at 0x11c2ac79cd0>"
      ]
     },
     "execution_count": 1,
     "metadata": {},
     "output_type": "execute_result"
    }
   ],
   "source": [
    "#Make own graph\n",
    "from IPython.display import Image,display #preview graph\n",
    "from typing_extensions import TypedDict\n",
    "from langgraph.graph import START,END,StateGraph\n",
    "from langgraph.graph.state import CompiledStateGraph\n",
    "class MyselfState (TypedDict):\n",
    "    name:str\n",
    "    age:int\n",
    "    work:str\n",
    "    goal:str\n",
    "\n",
    "my_state:MyselfState=MyselfState(name=\"Duaa\",age=\"20\",work=\"Studying\",goal=\"AI engineer\")\n",
    "\n",
    "def node_1(state:MyselfState)->MyselfState:\n",
    "    return {\"name\":\"Hi my name is \" + state[\"name\"] + \".\"}\n",
    "def node_2(state:MyselfState)->MyselfState:\n",
    "    return{\"age\":\" My age is \"+state[\"age\"] + \".\"}\n",
    "def node_3(state:MyselfState)->MyselfState:\n",
    "    return{\"work\":\" I am currently \"+state[\"work\"]}\n",
    "def node_4(state:MyselfState)->MyselfState:\n",
    "    return{\"goal\":\"& my goal is to become \" + state[\"goal\"]}\n",
    "\n",
    "graph_builder:StateGraph=StateGraph(state_schema=MyselfState)\n",
    "graph_builder.add_node(\"name_define\",node_1)\n",
    "graph_builder.add_node(\"age_define\",node_2)\n",
    "graph_builder.add_node(\"work_define\",node_3)\n",
    "graph_builder.add_node(\"goal_define\",node_4)\n",
    "\n",
    "graph_builder.add_edge(START,\"name_define\")\n",
    "graph_builder.add_edge(\"name_define\",\"age_define\")\n",
    "graph_builder.add_edge(\"age_define\",\"work_define\")\n",
    "graph_builder.add_edge(\"work_define\",\"goal_define\")\n",
    "graph_builder.add_edge(\"goal_define\",END)\n",
    "\n"
   ]
  },
  {
   "cell_type": "code",
   "execution_count": 3,
   "metadata": {},
   "outputs": [
    {
     "name": "stdout",
     "output_type": "stream",
     "text": [
      "{'name': 'Hi my name is Duaa.', 'age': ' My age is 20.', 'work': ' I am currently studying', 'goal': '& my goal is to become AI Engineer'}\n"
     ]
    },
    {
     "data": {
      "image/jpeg": "[encoded data removed]",
      "text/plain": [
       "<IPython.core.display.Image object>"
      ]
     },
     "metadata": {},
     "output_type": "display_data"
    }
   ],
   "source": [
    "my_graph : CompiledStateGraph = graph_builder.compile()\n",
    "print(my_graph.invoke({\"name\":\"Duaa\",\"age\":\"20\",\"work\":\"studying\",\"goal\":\"AI Engineer\"}))\n",
    "display(Image(my_graph.get_graph().draw_mermaid_png()))"
   ]
  }
 ],
 "metadata": {
  "kernelspec": {
   "display_name": "lang-graph-PBATTWNB-py3.12",
   "language": "python",
   "name": "python3"
  },
  "language_info": {
   "codemirror_mode": {
    "name": "ipython",
    "version": 3
   },
   "file_extension": ".py",
   "mimetype": "text/x-python",
   "name": "python",
   "nbconvert_exporter": "python",
   "pygments_lexer": "ipython3",
   "version": "3.12.6"
  }
 },
 "nbformat": 4,
 "nbformat_minor": 2
}
